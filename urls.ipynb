{
 "cells": [
  {
   "cell_type": "code",
   "execution_count": null,
   "metadata": {},
   "outputs": [],
   "source": [
    "# Thank you Vincent!\n",
    "\n",
    "# Using Deep Learning and Machine Learning to predict malicious urls\n",
    "# https://github.com/joshsaxe/eXposeDeepNeuralNetwork"
   ]
  },
  {
   "cell_type": "code",
   "execution_count": 1,
   "metadata": {},
   "outputs": [
    {
     "name": "stdout",
     "output_type": "stream",
     "text": [
      "(5000, 3)\n"
     ]
    }
   ],
   "source": [
    "# Load the data\n",
    "from urlparse import urlparse\n",
    "import pandas as pd\n",
    "urls = pd.read_json(\"data/url_nn.json\")\n",
    "print urls.shape\n",
    "urls['string'] = \"http://\" + urls['string']"
   ]
  },
  {
   "cell_type": "code",
   "execution_count": 146,
   "metadata": {},
   "outputs": [
    {
     "data": {
      "text/html": [
       "<div>\n",
       "<style>\n",
       "    .dataframe thead tr:only-child th {\n",
       "        text-align: right;\n",
       "    }\n",
       "\n",
       "    .dataframe thead th {\n",
       "        text-align: left;\n",
       "    }\n",
       "\n",
       "    .dataframe tbody tr th {\n",
       "        vertical-align: top;\n",
       "    }\n",
       "</style>\n",
       "<table border=\"1\" class=\"dataframe\">\n",
       "  <thead>\n",
       "    <tr style=\"text-align: right;\">\n",
       "      <th></th>\n",
       "      <th>pred</th>\n",
       "      <th>string</th>\n",
       "      <th>truth</th>\n",
       "    </tr>\n",
       "  </thead>\n",
       "  <tbody>\n",
       "    <tr>\n",
       "      <th>0</th>\n",
       "      <td>1.574204e-05</td>\n",
       "      <td>http://startbuyingstocks.com/</td>\n",
       "      <td>0</td>\n",
       "    </tr>\n",
       "    <tr>\n",
       "      <th>1</th>\n",
       "      <td>1.840909e-05</td>\n",
       "      <td>http://qqcvk.com/</td>\n",
       "      <td>0</td>\n",
       "    </tr>\n",
       "    <tr>\n",
       "      <th>2</th>\n",
       "      <td>1.842080e-05</td>\n",
       "      <td>http://432parkavenue.com/</td>\n",
       "      <td>0</td>\n",
       "    </tr>\n",
       "    <tr>\n",
       "      <th>3</th>\n",
       "      <td>7.954729e-07</td>\n",
       "      <td>http://gamefoliant.ru/</td>\n",
       "      <td>0</td>\n",
       "    </tr>\n",
       "    <tr>\n",
       "      <th>4</th>\n",
       "      <td>3.239338e-06</td>\n",
       "      <td>http://orka.cn/</td>\n",
       "      <td>0</td>\n",
       "    </tr>\n",
       "    <tr>\n",
       "      <th>5</th>\n",
       "      <td>3.043137e-04</td>\n",
       "      <td>http://media2.mercola.com/</td>\n",
       "      <td>0</td>\n",
       "    </tr>\n",
       "    <tr>\n",
       "      <th>6</th>\n",
       "      <td>4.107331e-37</td>\n",
       "      <td>http://ping.chartbeat.net/ping?h=sltrib.com&amp;p=...</td>\n",
       "      <td>0</td>\n",
       "    </tr>\n",
       "    <tr>\n",
       "      <th>7</th>\n",
       "      <td>1.664497e-07</td>\n",
       "      <td>http://stephensteels.com/</td>\n",
       "      <td>0</td>\n",
       "    </tr>\n",
       "    <tr>\n",
       "      <th>8</th>\n",
       "      <td>1.400715e-05</td>\n",
       "      <td>http://kbd-eko.pl/</td>\n",
       "      <td>0</td>\n",
       "    </tr>\n",
       "    <tr>\n",
       "      <th>9</th>\n",
       "      <td>2.273991e-05</td>\n",
       "      <td>http://ceskaposta.cz/</td>\n",
       "      <td>0</td>\n",
       "    </tr>\n",
       "  </tbody>\n",
       "</table>\n",
       "</div>"
      ],
      "text/plain": [
       "           pred                                             string  truth\n",
       "0  1.574204e-05                      http://startbuyingstocks.com/      0\n",
       "1  1.840909e-05                                  http://qqcvk.com/      0\n",
       "2  1.842080e-05                          http://432parkavenue.com/      0\n",
       "3  7.954729e-07                             http://gamefoliant.ru/      0\n",
       "4  3.239338e-06                                    http://orka.cn/      0\n",
       "5  3.043137e-04                         http://media2.mercola.com/      0\n",
       "6  4.107331e-37  http://ping.chartbeat.net/ping?h=sltrib.com&p=...      0\n",
       "7  1.664497e-07                          http://stephensteels.com/      0\n",
       "8  1.400715e-05                                 http://kbd-eko.pl/      0\n",
       "9  2.273991e-05                              http://ceskaposta.cz/      0"
      ]
     },
     "execution_count": 146,
     "metadata": {},
     "output_type": "execute_result"
    }
   ],
   "source": [
    "urls.head(10)"
   ]
  },
  {
   "cell_type": "code",
   "execution_count": 3,
   "metadata": {},
   "outputs": [],
   "source": [
    "X, y = urls['string'], urls['truth']"
   ]
  },
  {
   "cell_type": "code",
   "execution_count": 203,
   "metadata": {},
   "outputs": [
    {
     "data": {
      "text/plain": [
       "0    http://startbuyingstocks.com/\n",
       "1                http://qqcvk.com/\n",
       "2        http://432parkavenue.com/\n",
       "3           http://gamefoliant.ru/\n",
       "4                  http://orka.cn/\n",
       "Name: string, dtype: object"
      ]
     },
     "execution_count": 203,
     "metadata": {},
     "output_type": "execute_result"
    }
   ],
   "source": [
    "X.head()  # look at X"
   ]
  },
  {
   "cell_type": "code",
   "execution_count": 204,
   "metadata": {},
   "outputs": [
    {
     "data": {
      "text/plain": [
       "0    0\n",
       "1    0\n",
       "2    0\n",
       "3    0\n",
       "4    0\n",
       "Name: truth, dtype: int64"
      ]
     },
     "execution_count": 204,
     "metadata": {},
     "output_type": "execute_result"
    }
   ],
   "source": [
    "y.head()"
   ]
  },
  {
   "cell_type": "code",
   "execution_count": 4,
   "metadata": {},
   "outputs": [
    {
     "data": {
      "text/plain": [
       "0    0.9694\n",
       "1    0.0306\n",
       "Name: truth, dtype: float64"
      ]
     },
     "execution_count": 4,
     "metadata": {},
     "output_type": "execute_result"
    }
   ],
   "source": [
    "y.value_counts(normalize=True)  # get our null accuracy because we are interested in prediction"
   ]
  },
  {
   "cell_type": "code",
   "execution_count": 66,
   "metadata": {
    "collapsed": true
   },
   "outputs": [],
   "source": [
    "from sklearn.feature_extraction.text import CountVectorizer"
   ]
  },
  {
   "cell_type": "code",
   "execution_count": 206,
   "metadata": {},
   "outputs": [
    {
     "name": "stdout",
     "output_type": "stream",
     "text": [
      "['https', 'google', 'com']\n",
      "['https', 'google', 'so', 'not', 'fake', 'com', 'fake=False&seriously=True']\n"
     ]
    }
   ],
   "source": [
    "# EXERCISE\n",
    "\n",
    "# Create a fucntion called custom_tokenizer that takes in a string and outputs a list of tokens of the string.\n",
    "# You may choose how few or how many tokens you can choose to return.\n",
    "\n",
    "# eg.\n",
    "\n",
    "print custom_tokenizer('https://google.com')\n",
    "\n",
    "print custom_tokenizer('https://google-so-not-fake.com?fake=False&seriously=True')\n",
    "\n"
   ]
  },
  {
   "cell_type": "code",
   "execution_count": null,
   "metadata": {
    "collapsed": true
   },
   "outputs": [],
   "source": []
  },
  {
   "cell_type": "code",
   "execution_count": null,
   "metadata": {
    "collapsed": true
   },
   "outputs": [],
   "source": []
  },
  {
   "cell_type": "code",
   "execution_count": null,
   "metadata": {
    "collapsed": true
   },
   "outputs": [],
   "source": []
  },
  {
   "cell_type": "code",
   "execution_count": null,
   "metadata": {
    "collapsed": true
   },
   "outputs": [],
   "source": []
  },
  {
   "cell_type": "code",
   "execution_count": null,
   "metadata": {
    "collapsed": true
   },
   "outputs": [],
   "source": []
  },
  {
   "cell_type": "code",
   "execution_count": null,
   "metadata": {
    "collapsed": true
   },
   "outputs": [],
   "source": []
  },
  {
   "cell_type": "code",
   "execution_count": null,
   "metadata": {
    "collapsed": true
   },
   "outputs": [],
   "source": []
  },
  {
   "cell_type": "code",
   "execution_count": 172,
   "metadata": {
    "collapsed": true
   },
   "outputs": [],
   "source": [
    "import re\n",
    "\n",
    "def custom_tokenizer(string):\n",
    "    final = []\n",
    "    tokens = [a for a in list(urlparse(string)) if a]\n",
    "    for t in tokens:\n",
    "        final.extend(re.compile(\"[.-]\").split(t))\n",
    "    return final"
   ]
  },
  {
   "cell_type": "code",
   "execution_count": 173,
   "metadata": {},
   "outputs": [
    {
     "data": {
      "text/plain": [
       "['google', 'com']"
      ]
     },
     "execution_count": 173,
     "metadata": {},
     "output_type": "execute_result"
    }
   ],
   "source": [
    "custom_tokenizer('google.com')"
   ]
  },
  {
   "cell_type": "code",
   "execution_count": 174,
   "metadata": {},
   "outputs": [
    {
     "data": {
      "text/plain": [
       "['https', 'google', 'com']"
      ]
     },
     "execution_count": 174,
     "metadata": {},
     "output_type": "execute_result"
    }
   ],
   "source": [
    "custom_tokenizer('https://google.com')"
   ]
  },
  {
   "cell_type": "code",
   "execution_count": 175,
   "metadata": {},
   "outputs": [
    {
     "data": {
      "text/plain": [
       "['https', 'google', 'so', 'not', 'fake', 'com', 'fake=False&seriously=True']"
      ]
     },
     "execution_count": 175,
     "metadata": {},
     "output_type": "execute_result"
    }
   ],
   "source": [
    "custom_tokenizer('https://google-so-not-fake.com?fake=False&seriously=True')"
   ]
  },
  {
   "cell_type": "code",
   "execution_count": 176,
   "metadata": {
    "collapsed": true
   },
   "outputs": [],
   "source": [
    "vect = CountVectorizer(tokenizer=custom_tokenizer)"
   ]
  },
  {
   "cell_type": "code",
   "execution_count": 177,
   "metadata": {},
   "outputs": [
    {
     "data": {
      "text/plain": [
       "<5000x11502 sparse matrix of type '<type 'numpy.int64'>'\n",
       "\twith 31293 stored elements in Compressed Sparse Row format>"
      ]
     },
     "execution_count": 177,
     "metadata": {},
     "output_type": "execute_result"
    }
   ],
   "source": [
    "vect.fit_transform(X)"
   ]
  },
  {
   "cell_type": "code",
   "execution_count": 178,
   "metadata": {
    "collapsed": true
   },
   "outputs": [],
   "source": [
    "from sklearn.pipeline import Pipeline\n",
    "from sklearn.linear_model import LogisticRegression\n",
    "\n",
    "lr = LogisticRegression()\n",
    "lr_pipe = Pipeline([('vect', vect), ('model', lr)])"
   ]
  },
  {
   "cell_type": "code",
   "execution_count": null,
   "metadata": {
    "collapsed": true
   },
   "outputs": [],
   "source": []
  },
  {
   "cell_type": "code",
   "execution_count": 179,
   "metadata": {
    "collapsed": true
   },
   "outputs": [],
   "source": [
    "from sklearn.model_selection import cross_val_score, GridSearchCV, train_test_split"
   ]
  },
  {
   "cell_type": "code",
   "execution_count": 180,
   "metadata": {},
   "outputs": [
    {
     "data": {
      "text/plain": [
       "0.98000238400238404"
      ]
     },
     "execution_count": 180,
     "metadata": {},
     "output_type": "execute_result"
    }
   ],
   "source": [
    "scores = cross_val_score(lr_pipe, X, y, cv=5)\n",
    "\n",
    "scores.mean()  # not good enough!!"
   ]
  },
  {
   "cell_type": "code",
   "execution_count": 200,
   "metadata": {},
   "outputs": [
    {
     "data": {
      "text/plain": [
       "0.98100278480278469"
      ]
     },
     "execution_count": 200,
     "metadata": {},
     "output_type": "execute_result"
    }
   ],
   "source": [
    "from sklearn.pipeline import Pipeline\n",
    "from sklearn.ensemble import RandomForestClassifier\n",
    "\n",
    "rf_pipe = Pipeline([('vect', vect), ('model', RandomForestClassifier(n_estimators=500))])\n",
    "scores = cross_val_score(rf_pipe, X, y, cv=5)\n",
    "\n",
    "scores.mean()  # not as good"
   ]
  },
  {
   "cell_type": "code",
   "execution_count": null,
   "metadata": {
    "collapsed": true
   },
   "outputs": [],
   "source": []
  },
  {
   "cell_type": "code",
   "execution_count": null,
   "metadata": {
    "collapsed": true
   },
   "outputs": [],
   "source": []
  },
  {
   "cell_type": "code",
   "execution_count": 183,
   "metadata": {},
   "outputs": [
    {
     "name": "stdout",
     "output_type": "stream",
     "text": [
      "[[1214    0]\n",
      " [  25   11]]\n"
     ]
    }
   ],
   "source": [
    "X_train, X_test, y_train, y_test = train_test_split(X, y)\n",
    "\n",
    "from sklearn.metrics import confusion_matrix\n",
    "\n",
    "rf_pipe.fit(X_train, y_train)\n",
    "\n",
    "preds = rf_pipe.predict(X_test)\n",
    "print confusion_matrix(y_test, preds)  # hmmmm"
   ]
  },
  {
   "cell_type": "code",
   "execution_count": 184,
   "metadata": {},
   "outputs": [],
   "source": [
    "probs = rf_pipe.predict_proba(X_test)[:,1]"
   ]
  },
  {
   "cell_type": "code",
   "execution_count": 185,
   "metadata": {},
   "outputs": [
    {
     "name": "stdout",
     "output_type": "stream",
     "text": [
      "0.1\n",
      "[[1185   29]\n",
      " [  15   21]]\n",
      "\n",
      "0.2\n",
      "[[1206    8]\n",
      " [  20   16]]\n",
      "\n",
      "0.3\n",
      "[[1210    4]\n",
      " [  21   15]]\n",
      "\n",
      "0.4\n",
      "[[1213    1]\n",
      " [  22   14]]\n",
      "\n",
      "0.5\n",
      "[[1213    1]\n",
      " [  24   12]]\n",
      "\n",
      "0.6\n",
      "[[1214    0]\n",
      " [  25   11]]\n",
      "\n",
      "0.7\n",
      "[[1214    0]\n",
      " [  25   11]]\n",
      "\n",
      "0.8\n",
      "[[1214    0]\n",
      " [  27    9]]\n",
      "\n",
      "0.9\n",
      "[[1214    0]\n",
      " [  27    9]]\n",
      "\n"
     ]
    }
   ],
   "source": [
    "import numpy as np\n",
    "for thresh in [.1, .2, .3, .4, .5, .6, .7, .8, .9]:\n",
    "    preds = np.where(probs >= thresh, 1, 0)\n",
    "    print thresh\n",
    "    print confusion_matrix(y_test, preds)\n",
    "    print"
   ]
  },
  {
   "cell_type": "code",
   "execution_count": 186,
   "metadata": {},
   "outputs": [],
   "source": [
    "from keras.utils.np_utils import to_categorical\n",
    "y_train_dummy = to_categorical(y_train)\n",
    "num_classes = y_train_dummy.shape[1]\n",
    "y_test_dummy = to_categorical(y_test)"
   ]
  },
  {
   "cell_type": "code",
   "execution_count": 187,
   "metadata": {
    "collapsed": true
   },
   "outputs": [],
   "source": [
    "from keras.models import Model\n",
    "from keras.layers import Dense, Dropout, Activation\n",
    "from keras.models import Sequential\n",
    "from keras.models import Model\n",
    "from keras.optimizers import SGD\n",
    "\n",
    "def mlp_model(input_layer, num_classes, optimizer=\"adam\", epochs=25):\n",
    "    model = Sequential()\n",
    "    model.add(Dense(1024, input_dim=input_layer))\n",
    "    model.add(Activation('relu'))\n",
    "    model.add(Dropout(0.25))\n",
    "    \n",
    "    model.add(Dense(1024, input_dim=input_layer))\n",
    "    model.add(Activation('relu'))\n",
    "    model.add(Dropout(0.25))\n",
    "    \n",
    "    model.add(Dense(1024))\n",
    "    model.add(Activation('relu'))\n",
    "    model.add(Dropout(0.25))\n",
    "    \n",
    "    model.add(Dense(num_classes, activation='softmax'))\n",
    "\n",
    "    epochs = epochs\n",
    "    lrate = 0.01\n",
    "    decay = lrate/epochs\n",
    "    sgd = SGD(lr=lrate, momentum=0.9, decay=decay, nesterov=False)\n",
    "\n",
    "\n",
    "    model.compile(loss='categorical_crossentropy', optimizer=sgd, metrics=['accuracy'])\n",
    "    return model"
   ]
  },
  {
   "cell_type": "code",
   "execution_count": 188,
   "metadata": {},
   "outputs": [
    {
     "name": "stdout",
     "output_type": "stream",
     "text": [
      "_________________________________________________________________\n",
      "Layer (type)                 Output Shape              Param #   \n",
      "=================================================================\n",
      "dense_9 (Dense)              (None, 1024)              9228288   \n",
      "_________________________________________________________________\n",
      "activation_7 (Activation)    (None, 1024)              0         \n",
      "_________________________________________________________________\n",
      "dropout_7 (Dropout)          (None, 1024)              0         \n",
      "_________________________________________________________________\n",
      "dense_10 (Dense)             (None, 1024)              1049600   \n",
      "_________________________________________________________________\n",
      "activation_8 (Activation)    (None, 1024)              0         \n",
      "_________________________________________________________________\n",
      "dropout_8 (Dropout)          (None, 1024)              0         \n",
      "_________________________________________________________________\n",
      "dense_11 (Dense)             (None, 1024)              1049600   \n",
      "_________________________________________________________________\n",
      "activation_9 (Activation)    (None, 1024)              0         \n",
      "_________________________________________________________________\n",
      "dropout_9 (Dropout)          (None, 1024)              0         \n",
      "_________________________________________________________________\n",
      "dense_12 (Dense)             (None, 2)                 2050      \n",
      "=================================================================\n",
      "Total params: 11,329,538\n",
      "Trainable params: 11,329,538\n",
      "Non-trainable params: 0\n",
      "_________________________________________________________________\n",
      "None\n",
      "Train on 3750 samples, validate on 1250 samples\n",
      "Epoch 1/25\n",
      "3750/3750 [==============================] - 21s - loss: 0.1807 - acc: 0.9672 - val_loss: 0.1138 - val_acc: 0.9712\n",
      "Epoch 2/25\n",
      "3750/3750 [==============================] - 19s - loss: 0.1133 - acc: 0.9688 - val_loss: 0.1006 - val_acc: 0.9712\n",
      "Epoch 3/25\n",
      "3750/3750 [==============================] - 19s - loss: 0.0995 - acc: 0.9688 - val_loss: 0.0903 - val_acc: 0.9712\n",
      "Epoch 4/25\n",
      "3750/3750 [==============================] - 19s - loss: 0.0862 - acc: 0.9688 - val_loss: 0.0820 - val_acc: 0.9712\n",
      "Epoch 5/25\n",
      "3750/3750 [==============================] - 19s - loss: 0.0745 - acc: 0.9688 - val_loss: 0.0757 - val_acc: 0.9712\n",
      "Epoch 6/25\n",
      "3750/3750 [==============================] - 18s - loss: 0.0620 - acc: 0.9752 - val_loss: 0.0684 - val_acc: 0.9808\n",
      "Epoch 7/25\n",
      "3750/3750 [==============================] - 20s - loss: 0.0507 - acc: 0.9808 - val_loss: 0.0634 - val_acc: 0.9832\n",
      "Epoch 8/25\n",
      "3750/3750 [==============================] - 18s - loss: 0.0399 - acc: 0.9851 - val_loss: 0.0597 - val_acc: 0.9840\n",
      "Epoch 9/25\n",
      "3750/3750 [==============================] - 19s - loss: 0.0315 - acc: 0.9885 - val_loss: 0.0562 - val_acc: 0.9840\n",
      "Epoch 10/25\n",
      "3750/3750 [==============================] - 24s - loss: 0.0254 - acc: 0.9925 - val_loss: 0.0619 - val_acc: 0.9848\n",
      "Epoch 11/25\n",
      "3750/3750 [==============================] - 22s - loss: 0.0200 - acc: 0.9952 - val_loss: 0.0508 - val_acc: 0.9864\n",
      "Epoch 12/25\n",
      "3750/3750 [==============================] - 20s - loss: 0.0139 - acc: 0.9973 - val_loss: 0.0501 - val_acc: 0.9856\n",
      "Epoch 13/25\n",
      "3750/3750 [==============================] - 19s - loss: 0.0114 - acc: 0.9979 - val_loss: 0.0519 - val_acc: 0.9840\n",
      "Epoch 14/25\n",
      "3750/3750 [==============================] - 17s - loss: 0.0078 - acc: 0.9992 - val_loss: 0.0536 - val_acc: 0.9840\n",
      "Epoch 15/25\n",
      "3750/3750 [==============================] - 20s - loss: 0.0074 - acc: 0.9992 - val_loss: 0.0553 - val_acc: 0.9848\n",
      "Epoch 16/25\n",
      "3750/3750 [==============================] - 22s - loss: 0.0045 - acc: 1.0000 - val_loss: 0.0570 - val_acc: 0.9848\n",
      "Epoch 17/25\n",
      "3750/3750 [==============================] - 22s - loss: 0.0037 - acc: 1.0000 - val_loss: 0.0572 - val_acc: 0.9840\n",
      "Epoch 18/25\n",
      "3750/3750 [==============================] - 20s - loss: 0.0034 - acc: 0.9995 - val_loss: 0.0535 - val_acc: 0.9848\n",
      "Epoch 19/25\n",
      "3750/3750 [==============================] - 20s - loss: 0.0026 - acc: 1.0000 - val_loss: 0.0636 - val_acc: 0.9848\n",
      "Epoch 20/25\n",
      "3750/3750 [==============================] - 19s - loss: 0.0024 - acc: 1.0000 - val_loss: 0.0645 - val_acc: 0.9848\n",
      "Epoch 21/25\n",
      "3750/3750 [==============================] - 20s - loss: 0.0021 - acc: 1.0000 - val_loss: 0.0650 - val_acc: 0.9848\n",
      "Epoch 22/25\n",
      "3750/3750 [==============================] - 20s - loss: 0.0022 - acc: 1.0000 - val_loss: 0.0621 - val_acc: 0.9840\n",
      "Epoch 23/25\n",
      "3750/3750 [==============================] - 20s - loss: 0.0019 - acc: 1.0000 - val_loss: 0.0626 - val_acc: 0.9840\n",
      "Epoch 24/25\n",
      "3750/3750 [==============================] - 21s - loss: 0.0016 - acc: 1.0000 - val_loss: 0.0671 - val_acc: 0.9848\n",
      "Epoch 25/25\n",
      "3750/3750 [==============================] - 20s - loss: 0.0015 - acc: 1.0000 - val_loss: 0.0624 - val_acc: 0.9840\n"
     ]
    },
    {
     "data": {
      "text/plain": [
       "<keras.callbacks.History at 0x12351f850>"
      ]
     },
     "execution_count": 188,
     "metadata": {},
     "output_type": "execute_result"
    }
   ],
   "source": [
    "num_epochs = 25\n",
    "\n",
    "vect = CountVectorizer(tokenizer=custom_tokenizer)\n",
    "\n",
    "X_train_dtm = vect.fit_transform(X_train).toarray()\n",
    "X_test_dtm = vect.transform(X_test).toarray()\n",
    "model = mlp_model(len(vect.get_feature_names()), num_classes, epochs=num_epochs)\n",
    "\n",
    "print model.summary()\n",
    "\n",
    "# Fit the model\n",
    "model.fit(X_train_dtm, y_train_dummy, validation_data=(X_test_dtm, y_test_dummy), batch_size=32, nb_epoch=num_epochs)\n",
    "# Final evaluation of the model"
   ]
  },
  {
   "cell_type": "code",
   "execution_count": 189,
   "metadata": {},
   "outputs": [
    {
     "name": "stdout",
     "output_type": "stream",
     "text": [
      "Accuracy: 98.40%\n"
     ]
    }
   ],
   "source": [
    "scores = model.evaluate(X_test_dtm, y_test_dummy, verbose=0)\n",
    "print(\"Accuracy: %.2f%%\" % (scores[1]*100))"
   ]
  },
  {
   "cell_type": "code",
   "execution_count": 190,
   "metadata": {},
   "outputs": [
    {
     "data": {
      "text/plain": [
       "array([[  9.99973536e-01,   2.64957744e-05],\n",
       "       [  3.43389392e-01,   6.56610668e-01]], dtype=float32)"
      ]
     },
     "execution_count": 190,
     "metadata": {},
     "output_type": "execute_result"
    }
   ],
   "source": [
    "model.predict(vect.transform(['http://creditscore.com/', 'http://acharefacil.com.br/app/webroot/js/latestfnb/']).toarray())"
   ]
  },
  {
   "cell_type": "code",
   "execution_count": 191,
   "metadata": {},
   "outputs": [
    {
     "name": "stdout",
     "output_type": "stream",
     "text": [
      "[[1213    1]\n",
      " [  19   17]]\n"
     ]
    }
   ],
   "source": [
    "probs = model.predict(vect.transform(X_test).toarray())[:,1]\n",
    "preds = probs >= .5\n",
    "print confusion_matrix(y_test, preds)"
   ]
  },
  {
   "cell_type": "code",
   "execution_count": 192,
   "metadata": {},
   "outputs": [
    {
     "name": "stdout",
     "output_type": "stream",
     "text": [
      "[[1213    1]\n",
      " [  24   12]]\n"
     ]
    }
   ],
   "source": [
    "probs = rf_pipe.predict_proba(X_test)[:,1]\n",
    "preds = probs >= .5\n",
    "print confusion_matrix(y_test, preds)"
   ]
  },
  {
   "cell_type": "code",
   "execution_count": 193,
   "metadata": {
    "collapsed": true
   },
   "outputs": [],
   "source": [
    "from sklearn.neural_network import MLPClassifier\n",
    "from sklearn.neighbors import KNeighborsClassifier"
   ]
  },
  {
   "cell_type": "code",
   "execution_count": null,
   "metadata": {
    "collapsed": true
   },
   "outputs": [],
   "source": []
  },
  {
   "cell_type": "code",
   "execution_count": 194,
   "metadata": {},
   "outputs": [
    {
     "data": {
      "text/plain": [
       "0.98420158720158724"
      ]
     },
     "execution_count": 194,
     "metadata": {},
     "output_type": "execute_result"
    }
   ],
   "source": [
    "nn_pipe = Pipeline([('vect', vect), ('model', MLPClassifier())])\n",
    "scores = cross_val_score(nn_pipe, X, y, cv=5)\n",
    "\n",
    "scores.mean()  # better I guess.."
   ]
  },
  {
   "cell_type": "code",
   "execution_count": 195,
   "metadata": {},
   "outputs": [
    {
     "name": "stdout",
     "output_type": "stream",
     "text": [
      "[[1213    1]\n",
      " [  20   16]]\n"
     ]
    }
   ],
   "source": [
    "nn_pipe.fit(X_train, y_train)\n",
    "probs = nn_pipe.predict_proba(X_test)[:,1]\n",
    "preds = probs >= .5\n",
    "print confusion_matrix(y_test, preds)"
   ]
  },
  {
   "cell_type": "code",
   "execution_count": 196,
   "metadata": {},
   "outputs": [],
   "source": [
    "false_negatives = X_test[(preds==0) & (y_test==1)]  # show the false positives, the urls that \"got through\""
   ]
  },
  {
   "cell_type": "code",
   "execution_count": 202,
   "metadata": {},
   "outputs": [
    {
     "data": {
      "text/plain": [
       "[u'http://instalacionesmarmenor.com/instt/',\n",
       " u'http://datatech-ma.com/imagens/autorizados/wwww_dotz.com/acumulo_de_pontos/area_do_cliente/public_html/',\n",
       " u'http://220.243.235.13/6843319.s21d-6.faiusrd.com/0/abuiabblgaag9qgfrwuoxeygnqe?f=a&%5cu0005&wsiphost=local',\n",
       " u'http://get.ddlmedia1012.info/downloadmanager/get?clickid=y810ifrcxc',\n",
       " u'http://shatteredrealities.net/support/activate/information/11d37cf69e7e159ddfc549a51ca901c8/login.php',\n",
       " u'http://scholigoneon.org.cy/dropboxdocument/b642ffe1dd813bc5d6590a66ad16927c/',\n",
       " u'http://acharefacil.com.br/app/webroot/js/latestfnb/',\n",
       " u'http://usherandson.com/news/wp-content/plugins/jetpack/views/hotmail2/security.html',\n",
       " u'http://paypal1.com.case.507-917-425.jjfqmrbi5n76yw.pwx4qurtj2t.com.ve/cgi-bin/webscr/',\n",
       " u'http://malkarafestival.com/images/bottom.gif/?184ff=398332',\n",
       " u'http://purvanchalseva.in/wp-content/upgrade/images/applen/apple-en/en/978913f1b016db9fe72a4dcf841a98f4/',\n",
       " u'http://www.marcinderegowski.pl/content/galeria/11/0/min/d72286b21e4b6e46f48dc1d442725eba/',\n",
       " u'http://greateraltoonajewishfederation.org/irs/5/cgi-bin/irs.gov.htm',\n",
       " u'http://finsecxh.com/log/identity.php',\n",
       " u'http://anykumeni.info/',\n",
       " u'http://wfcforums.com/home/wp-mark.php',\n",
       " u'http://sicu22jbyeh7eh2.hastasarim.com/',\n",
       " u'http://investmentsuisse2016.org/newdropbox2016/',\n",
       " u'http://wearejose.org/london/',\n",
       " u'http://markdekkers.com.au/paste/updatey!.html/']"
      ]
     },
     "execution_count": 202,
     "metadata": {},
     "output_type": "execute_result"
    }
   ],
   "source": [
    "list(false_negatives)"
   ]
  },
  {
   "cell_type": "code",
   "execution_count": null,
   "metadata": {
    "collapsed": true
   },
   "outputs": [],
   "source": []
  },
  {
   "cell_type": "code",
   "execution_count": null,
   "metadata": {
    "collapsed": true
   },
   "outputs": [],
   "source": []
  },
  {
   "cell_type": "code",
   "execution_count": null,
   "metadata": {
    "collapsed": true
   },
   "outputs": [],
   "source": []
  }
 ],
 "metadata": {
  "kernelspec": {
   "display_name": "Python 2",
   "language": "python",
   "name": "python2"
  },
  "language_info": {
   "codemirror_mode": {
    "name": "ipython",
    "version": 2
   },
   "file_extension": ".py",
   "mimetype": "text/x-python",
   "name": "python",
   "nbconvert_exporter": "python",
   "pygments_lexer": "ipython2",
   "version": "2.7.10"
  }
 },
 "nbformat": 4,
 "nbformat_minor": 2
}
